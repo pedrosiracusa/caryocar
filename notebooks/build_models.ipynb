{
 "cells": [
  {
   "cell_type": "code",
   "execution_count": 1,
   "metadata": {},
   "outputs": [],
   "source": [
    "import pandas as pd\n",
    "import pickle"
   ]
  },
  {
   "cell_type": "code",
   "execution_count": 2,
   "metadata": {},
   "outputs": [],
   "source": [
    "import sys,os\n",
    "sys.path.insert(0,os.path.expanduser('~/Documents/caryocar'))"
   ]
  },
  {
   "cell_type": "code",
   "execution_count": 3,
   "metadata": {},
   "outputs": [],
   "source": [
    "%reload_ext autoreload\n",
    "%autoreload 2\n",
    "\n",
    "import pandas as pd\n",
    "from caryocar.models import CWN, SCN\n",
    "from caryocar.cleaning import NamesAtomizer, namesFromString\n",
    "from caryocar.cleaning import normalize,read_NamesMap_fromJson\n",
    "from caryocar.cleaning import getNamesIndexes"
   ]
  },
  {
   "cell_type": "code",
   "execution_count": 4,
   "metadata": {},
   "outputs": [],
   "source": [
    "dsetPath = '~/datasets/ub_herbarium/occurrence.csv'\n",
    "cols=['recordedBy','scientificName','taxonRank','kingdom','phylum','class','order','family','genus','species',\n",
    "      'countryCode', 'rightsHolder', 'eventDate']\n",
    "occs = pd.read_table(dsetPath,usecols=cols,low_memory=False,parse_dates=['eventDate'])\n",
    "occs = occs[occs['recordedBy'].notnull()]\n",
    "occs = occs[occs['scientificName'].notnull()]\n",
    "occs = occs[occs['species'].notnull()]"
   ]
  },
  {
   "cell_type": "code",
   "execution_count": 5,
   "metadata": {},
   "outputs": [
    {
     "data": {
      "text/html": [
       "<div>\n",
       "<style scoped>\n",
       "    .dataframe tbody tr th:only-of-type {\n",
       "        vertical-align: middle;\n",
       "    }\n",
       "\n",
       "    .dataframe tbody tr th {\n",
       "        vertical-align: top;\n",
       "    }\n",
       "\n",
       "    .dataframe thead th {\n",
       "        text-align: right;\n",
       "    }\n",
       "</style>\n",
       "<table border=\"1\" class=\"dataframe\">\n",
       "  <thead>\n",
       "    <tr style=\"text-align: right;\">\n",
       "      <th></th>\n",
       "      <th>kingdom</th>\n",
       "      <th>phylum</th>\n",
       "      <th>class</th>\n",
       "      <th>order</th>\n",
       "      <th>family</th>\n",
       "      <th>genus</th>\n",
       "      <th>species</th>\n",
       "      <th>taxonRank</th>\n",
       "      <th>scientificName</th>\n",
       "      <th>countryCode</th>\n",
       "      <th>eventDate</th>\n",
       "      <th>rightsHolder</th>\n",
       "      <th>recordedBy</th>\n",
       "    </tr>\n",
       "  </thead>\n",
       "  <tbody>\n",
       "    <tr>\n",
       "      <th>0</th>\n",
       "      <td>Plantae</td>\n",
       "      <td>Tracheophyta</td>\n",
       "      <td>Magnoliopsida</td>\n",
       "      <td>Asterales</td>\n",
       "      <td>Asteraceae</td>\n",
       "      <td>Lychnophora</td>\n",
       "      <td>Lychnophora pinaster</td>\n",
       "      <td>SPECIES</td>\n",
       "      <td>Lychnophora pinaster Mart.</td>\n",
       "      <td>BR</td>\n",
       "      <td>1980-10-01</td>\n",
       "      <td>UB - Herbário da Universidade de Brasília</td>\n",
       "      <td>Ferreira, VF</td>\n",
       "    </tr>\n",
       "    <tr>\n",
       "      <th>1</th>\n",
       "      <td>Plantae</td>\n",
       "      <td>Tracheophyta</td>\n",
       "      <td>Magnoliopsida</td>\n",
       "      <td>Asterales</td>\n",
       "      <td>Asteraceae</td>\n",
       "      <td>Lychnophora</td>\n",
       "      <td>Lychnophora pinaster</td>\n",
       "      <td>SPECIES</td>\n",
       "      <td>Lychnophora pinaster Mart.</td>\n",
       "      <td>BR</td>\n",
       "      <td>1980-10-08</td>\n",
       "      <td>UB - Herbário da Universidade de Brasília</td>\n",
       "      <td>Ferreira, VF</td>\n",
       "    </tr>\n",
       "    <tr>\n",
       "      <th>2</th>\n",
       "      <td>Plantae</td>\n",
       "      <td>Tracheophyta</td>\n",
       "      <td>Magnoliopsida</td>\n",
       "      <td>Asterales</td>\n",
       "      <td>Asteraceae</td>\n",
       "      <td>Lychnophora</td>\n",
       "      <td>Lychnophora pinaster</td>\n",
       "      <td>SPECIES</td>\n",
       "      <td>Lychnophora pinaster Mart.</td>\n",
       "      <td>BR</td>\n",
       "      <td>1980-10-01</td>\n",
       "      <td>UB - Herbário da Universidade de Brasília</td>\n",
       "      <td>Ferreira, VF</td>\n",
       "    </tr>\n",
       "    <tr>\n",
       "      <th>3</th>\n",
       "      <td>Plantae</td>\n",
       "      <td>Tracheophyta</td>\n",
       "      <td>Magnoliopsida</td>\n",
       "      <td>Asterales</td>\n",
       "      <td>Asteraceae</td>\n",
       "      <td>Lychnophora</td>\n",
       "      <td>Lychnophora pinaster</td>\n",
       "      <td>SPECIES</td>\n",
       "      <td>Lychnophora pinaster Mart.</td>\n",
       "      <td>BR</td>\n",
       "      <td>1971-01-18</td>\n",
       "      <td>UB - Herbário da Universidade de Brasília</td>\n",
       "      <td>Irwin, HS</td>\n",
       "    </tr>\n",
       "    <tr>\n",
       "      <th>4</th>\n",
       "      <td>Plantae</td>\n",
       "      <td>Tracheophyta</td>\n",
       "      <td>Liliopsida</td>\n",
       "      <td>Poales</td>\n",
       "      <td>Poaceae</td>\n",
       "      <td>Arundo</td>\n",
       "      <td>Arundo donax</td>\n",
       "      <td>SPECIES</td>\n",
       "      <td>Arundo donax L.</td>\n",
       "      <td>BR</td>\n",
       "      <td>2017-02-08</td>\n",
       "      <td>UB - Herbário da Universidade de Brasília</td>\n",
       "      <td>Gomes, SM; Silva, ALH</td>\n",
       "    </tr>\n",
       "  </tbody>\n",
       "</table>\n",
       "</div>"
      ],
      "text/plain": [
       "   kingdom        phylum          class      order      family        genus  \\\n",
       "0  Plantae  Tracheophyta  Magnoliopsida  Asterales  Asteraceae  Lychnophora   \n",
       "1  Plantae  Tracheophyta  Magnoliopsida  Asterales  Asteraceae  Lychnophora   \n",
       "2  Plantae  Tracheophyta  Magnoliopsida  Asterales  Asteraceae  Lychnophora   \n",
       "3  Plantae  Tracheophyta  Magnoliopsida  Asterales  Asteraceae  Lychnophora   \n",
       "4  Plantae  Tracheophyta     Liliopsida     Poales     Poaceae       Arundo   \n",
       "\n",
       "                species taxonRank              scientificName countryCode  \\\n",
       "0  Lychnophora pinaster   SPECIES  Lychnophora pinaster Mart.          BR   \n",
       "1  Lychnophora pinaster   SPECIES  Lychnophora pinaster Mart.          BR   \n",
       "2  Lychnophora pinaster   SPECIES  Lychnophora pinaster Mart.          BR   \n",
       "3  Lychnophora pinaster   SPECIES  Lychnophora pinaster Mart.          BR   \n",
       "4          Arundo donax   SPECIES             Arundo donax L.          BR   \n",
       "\n",
       "   eventDate                               rightsHolder             recordedBy  \n",
       "0 1980-10-01  UB - Herbário da Universidade de Brasília           Ferreira, VF  \n",
       "1 1980-10-08  UB - Herbário da Universidade de Brasília           Ferreira, VF  \n",
       "2 1980-10-01  UB - Herbário da Universidade de Brasília           Ferreira, VF  \n",
       "3 1971-01-18  UB - Herbário da Universidade de Brasília              Irwin, HS  \n",
       "4 2017-02-08  UB - Herbário da Universidade de Brasília  Gomes, SM; Silva, ALH  "
      ]
     },
     "execution_count": 5,
     "metadata": {},
     "output_type": "execute_result"
    }
   ],
   "source": [
    "occs.head()"
   ]
  },
  {
   "cell_type": "code",
   "execution_count": 6,
   "metadata": {},
   "outputs": [
    {
     "data": {
      "text/plain": [
       "Index(['kingdom', 'phylum', 'class', 'order', 'family', 'genus', 'species',\n",
       "       'taxonRank', 'scientificName', 'countryCode', 'eventDate',\n",
       "       'rightsHolder', 'recordedBy'],\n",
       "      dtype='object')"
      ]
     },
     "execution_count": 6,
     "metadata": {},
     "output_type": "execute_result"
    }
   ],
   "source": [
    "occs.columns"
   ]
  },
  {
   "cell_type": "markdown",
   "metadata": {},
   "source": [
    "---"
   ]
  },
  {
   "cell_type": "markdown",
   "metadata": {},
   "source": [
    "# Names atomization"
   ]
  },
  {
   "cell_type": "code",
   "execution_count": 7,
   "metadata": {},
   "outputs": [],
   "source": [
    "na = NamesAtomizer(atomizeOp=namesFromString)"
   ]
  },
  {
   "cell_type": "markdown",
   "metadata": {},
   "source": [
    "Replaces: Manually replace some entries which are not following naming standards"
   ]
  },
  {
   "cell_type": "code",
   "execution_count": 8,
   "metadata": {},
   "outputs": [],
   "source": [
    "names_replaces_file = '../caryocar/cleaning/data/ub_collectors_replaces.json'"
   ]
  },
  {
   "cell_type": "code",
   "execution_count": 9,
   "metadata": {},
   "outputs": [
    {
     "name": "stdout",
     "output_type": "stream",
     "text": [
      "{\r\n",
      "    \"_replaces\": {\r\n",
      "        \"Barbosa; M.G.\": \"Barbosa, M.G.\",\r\n",
      "        \"Bueno; S.B.\": \"Bueno, S.B.\",\r\n",
      "        \"Carboni, M; Faraco, AG; Soares; P.G.; Sampaio, D; Breier, TB\": \"Carboni, M; Faraco, AG; Soares, P.G.; Sampaio, D; Breier, TB\",\r\n",
      "        \"Hatschbach, G; M.\": \"Hatschbach, G; Hatschbach, M\",\r\n",
      "        \"Hällström; E.\": \"Hällström, E.\",\r\n",
      "        \"Irwin, HS; Souza, R; Santos; RR\": \"Irwin, HS; Souza, R; Santos, RR\",\r\n",
      "        \"Kirkbride Junior, JH; Ono; E.K.M; et al.\": \"Kirkbride Junior, JH; Ono, E.K.M; et al.\",\r\n",
      "        \"Quintiliano; F.J.; Colvéquia; L.P.T; Silva; D.R.\": \"Quintiliano, F.J.; Colvéquia, L.P.T; Silva, D.R.\",\r\n",
      "        \"Silva; D.R.; Colvéquia; L.P.T\": \"Silva, D.R.; Colvéquia, L.P.T\",\r\n",
      "        \"Sr. Air, Sr. Milton, Rodrigo\": \"Sr. Air; Sr. Milton; Rodrigo\",\r\n",
      "        \"Sônia / Josefina\": \"Sônia; Josefina\",\r\n",
      "        \"Yushun.; K.\": \"Yushun., K.\"\r\n",
      "    }\r\n",
      "}"
     ]
    }
   ],
   "source": [
    "!cat {names_replaces_file}"
   ]
  },
  {
   "cell_type": "code",
   "execution_count": 10,
   "metadata": {},
   "outputs": [],
   "source": [
    "na.read_replaces(names_replaces_file)"
   ]
  },
  {
   "cell_type": "markdown",
   "metadata": {},
   "source": [
    "Now we create a new feature with atomized names"
   ]
  },
  {
   "cell_type": "code",
   "execution_count": 11,
   "metadata": {},
   "outputs": [],
   "source": [
    "occs['recordedBy_atomized']=na.atomize(occs['recordedBy'])"
   ]
  },
  {
   "cell_type": "markdown",
   "metadata": {},
   "source": [
    "---"
   ]
  },
  {
   "cell_type": "markdown",
   "metadata": {},
   "source": [
    "# Names mapping"
   ]
  },
  {
   "cell_type": "code",
   "execution_count": 12,
   "metadata": {},
   "outputs": [],
   "source": [
    "namesMap_file = '../caryocar/cleaning/data/ub_namesmap.json'"
   ]
  },
  {
   "cell_type": "code",
   "execution_count": 13,
   "metadata": {},
   "outputs": [
    {
     "name": "stdout",
     "output_type": "stream",
     "text": [
      "{\r\n",
      "    \"_map_prim_norm\": {\r\n",
      "        \".\": \"\",\r\n",
      "        \"1980 Sino-Amer Exped.\": \"sinoamerexped\",\r\n",
      "        \"?\": \"\",\r\n",
      "        \"A.J.N.V.\": \"ajnv\",\r\n",
      "        \"A.M.\": \"am\",\r\n",
      "        \"Abbas, B\": \"abbas,b\",\r\n",
      "        \"Abdala, GC\": \"abdala,gc\",\r\n",
      "        \"Abdo, MSA\": \"abdo,msa\",\r\n",
      "        \"Abdon\": \"abdon\",\r\n",
      "        \"Abe, LB\": \"abe,lb\",\r\n",
      "        \"Abe, LM\": \"abe,lm\",\r\n",
      "        \"Abrahim, MA\": \"abrahim,ma\",\r\n",
      "        \"Abreu, CG\": \"abreu,cg\",\r\n",
      "        \"Abreu, GX\": \"abreu,gx\",\r\n",
      "        \"Abreu, I\": \"abreu,i\",\r\n",
      "        \"Abreu, LC\": \"abreu,lc\",\r\n",
      "        \"Abreu, LCR\": \"abreu,lcr\",\r\n",
      "        \"Abreu, M\": \"abreu,m\",\r\n"
     ]
    }
   ],
   "source": [
    "!head {namesMap_file} -n 20"
   ]
  },
  {
   "cell_type": "code",
   "execution_count": 14,
   "metadata": {},
   "outputs": [],
   "source": [
    "nm = read_NamesMap_fromJson(namesMap_file, normalizationFunc=normalize)"
   ]
  },
  {
   "cell_type": "markdown",
   "metadata": {},
   "source": [
    "In case there are any collector names which were not in the names map file, add them now:"
   ]
  },
  {
   "cell_type": "code",
   "execution_count": 15,
   "metadata": {},
   "outputs": [],
   "source": [
    "collectors_names = list(set( n for n,st,num in na.getCachedNames() ))\n",
    "nm.addNames(collectors_names)"
   ]
  },
  {
   "cell_type": "markdown",
   "metadata": {},
   "source": [
    "---"
   ]
  },
  {
   "cell_type": "markdown",
   "metadata": {},
   "source": [
    "# Names index"
   ]
  },
  {
   "cell_type": "markdown",
   "metadata": {},
   "source": [
    "The names index maps each normalized collector name to the indices of the dataframe rows where they appear."
   ]
  },
  {
   "cell_type": "code",
   "execution_count": 16,
   "metadata": {},
   "outputs": [],
   "source": [
    "ni = getNamesIndexes(occs,'recordedBy_atomized', namesMap=nm.getMap())"
   ]
  },
  {
   "cell_type": "markdown",
   "metadata": {},
   "source": [
    "---"
   ]
  },
  {
   "cell_type": "markdown",
   "metadata": {},
   "source": [
    "# Building the models"
   ]
  },
  {
   "cell_type": "markdown",
   "metadata": {},
   "source": [
    "## SCN"
   ]
  },
  {
   "cell_type": "code",
   "execution_count": 17,
   "metadata": {},
   "outputs": [],
   "source": [
    "scn = SCN(species=occs['species'], collectors=occs['recordedBy_atomized'], namesMap=nm)"
   ]
  },
  {
   "cell_type": "code",
   "execution_count": 18,
   "metadata": {},
   "outputs": [],
   "source": [
    "cols_to_filter = ['','ignorado','ilegivel','incognito','etal']\n",
    "scn.remove_nodes_from(cols_to_filter)"
   ]
  },
  {
   "cell_type": "markdown",
   "metadata": {},
   "source": [
    "## CWN"
   ]
  },
  {
   "cell_type": "code",
   "execution_count": 19,
   "metadata": {},
   "outputs": [],
   "source": [
    "cwn = CWN(cliques=occs['recordedBy_atomized'],namesMap=nm)"
   ]
  },
  {
   "cell_type": "code",
   "execution_count": 20,
   "metadata": {},
   "outputs": [],
   "source": [
    "cols_to_filter = ['','ignorado','ilegivel','incognito','etal']\n",
    "cwn.remove_nodes_from(cols_to_filter)"
   ]
  }
 ],
 "metadata": {
  "kernelspec": {
   "display_name": "Python 3",
   "language": "python",
   "name": "python3"
  },
  "language_info": {
   "codemirror_mode": {
    "name": "ipython",
    "version": 3
   },
   "file_extension": ".py",
   "mimetype": "text/x-python",
   "name": "python",
   "nbconvert_exporter": "python",
   "pygments_lexer": "ipython3",
   "version": "3.6.6"
  }
 },
 "nbformat": 4,
 "nbformat_minor": 2
}
