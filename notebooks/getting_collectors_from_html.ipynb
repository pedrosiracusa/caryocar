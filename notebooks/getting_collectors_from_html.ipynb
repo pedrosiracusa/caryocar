{
 "cells": [
  {
   "cell_type": "code",
   "execution_count": 208,
   "metadata": {},
   "outputs": [],
   "source": [
    "# este pedaço de código só é necessário para atualizar o PATH do Python\n",
    "import sys,os\n",
    "sys.path.insert(0,os.path.expanduser('~/Documents/caryocar'))"
   ]
  },
  {
   "cell_type": "code",
   "execution_count": 189,
   "metadata": {},
   "outputs": [],
   "source": [
    "import pandas as pd\n",
    "from bs4 import BeautifulSoup\n",
    "import glob"
   ]
  },
  {
   "cell_type": "code",
   "execution_count": 10,
   "metadata": {},
   "outputs": [],
   "source": [
    "with open('./scrappedPages/p0.html',encoding='latin1') as f:\n",
    "    lines = f.read()"
   ]
  },
  {
   "cell_type": "code",
   "execution_count": 258,
   "metadata": {},
   "outputs": [],
   "source": [
    "{'a':1}.update({'b':2})"
   ]
  },
  {
   "cell_type": "code",
   "execution_count": 274,
   "metadata": {},
   "outputs": [],
   "source": [
    "def extractDataFrame(fname):\n",
    "    with open(fname,encoding='latin1') as f:\n",
    "        html=f.read()\n",
    "        \n",
    "    soup = BeautifulSoup(html,'lxml')\n",
    "    entries = soup.findAll('blockquote')\n",
    "    \n",
    "    collectors_names = soup.findAll('b')\n",
    "    \n",
    "    data = []\n",
    "    for i,entry in enumerate(entries):\n",
    "        attr_labels = list(entry.descendants)[2::5]\n",
    "        attr_data = list(entry.descendants)[3::5]\n",
    "        d = {k:v for k,v in list(zip(attr_labels,attr_data))[:-2]}\n",
    "        d['name'] = collectors_names[i].text\n",
    "        data.append(d)\n",
    "\n",
    "    return pd.DataFrame.from_dict(data, orient='columns')"
   ]
  },
  {
   "cell_type": "code",
   "execution_count": 276,
   "metadata": {},
   "outputs": [],
   "source": [
    "dfs = [ extractDataFrame(fname) for fname in glob.glob(\"./scrappedPages/*.html\") ]"
   ]
  },
  {
   "cell_type": "code",
   "execution_count": 277,
   "metadata": {},
   "outputs": [],
   "source": [
    "df_collectors = pd.concat(dfs,axis=0, sort=True)"
   ]
  },
  {
   "cell_type": "code",
   "execution_count": 296,
   "metadata": {},
   "outputs": [],
   "source": [
    "df_collectors['abreviação(s) encontrada(s):'].fillna('',inplace=True)"
   ]
  },
  {
   "cell_type": "markdown",
   "metadata": {},
   "source": [
    "---"
   ]
  },
  {
   "cell_type": "markdown",
   "metadata": {},
   "source": [
    "## Names normalized form"
   ]
  },
  {
   "cell_type": "code",
   "execution_count": 209,
   "metadata": {},
   "outputs": [],
   "source": [
    "from caryocar.cleaning import normalize"
   ]
  },
  {
   "cell_type": "code",
   "execution_count": 301,
   "metadata": {},
   "outputs": [],
   "source": [
    "df_collectors['suggested_abbr']=df_collectors['abreviação(s) sugerida(s):'].str.split(';').apply(lambda l: [ normalize(x) for x in l ]  ).str.join('|')\n",
    "df_collectors['suggested_abbr_additional']=df_collectors['abreviação(s) encontrada(s):'].str.split(';').apply(lambda l: [ normalize(x) for x in l ]  ).str.join('|')"
   ]
  },
  {
   "cell_type": "code",
   "execution_count": 308,
   "metadata": {},
   "outputs": [],
   "source": [
    "df_collectors = df_collectors.sort_values('suggested_abbr').reset_index(drop=True)"
   ]
  },
  {
   "cell_type": "code",
   "execution_count": null,
   "metadata": {},
   "outputs": [],
   "source": [
    "pd.DataFrame.to_"
   ]
  },
  {
   "cell_type": "code",
   "execution_count": 312,
   "metadata": {},
   "outputs": [],
   "source": [
    "df_collectors[['suggested_abbr','suggested_abbr_additional','name']].to_csv('collectors_from_cria.csv', index=False, sep=';')"
   ]
  },
  {
   "cell_type": "code",
   "execution_count": 222,
   "metadata": {},
   "outputs": [
    {
     "ename": "SyntaxError",
     "evalue": "invalid syntax (<ipython-input-222-403236d60360>, line 1)",
     "output_type": "error",
     "traceback": [
      "\u001b[0;36m  File \u001b[0;32m\"<ipython-input-222-403236d60360>\"\u001b[0;36m, line \u001b[0;32m1\u001b[0m\n\u001b[0;31m    df_collectors['abreviação(s) encontrada(s):'].str.\u001b[0m\n\u001b[0m                                                      ^\u001b[0m\n\u001b[0;31mSyntaxError\u001b[0m\u001b[0;31m:\u001b[0m invalid syntax\n"
     ]
    }
   ],
   "source": [
    "df_collectors['abreviação(s) encontrada(s):'].str.\n",
    "\n",
    "#apply(lambda x: normalize(x) if pd.notnull(x) else x)"
   ]
  }
 ],
 "metadata": {
  "kernelspec": {
   "display_name": "Python 3",
   "language": "python",
   "name": "python3"
  },
  "language_info": {
   "codemirror_mode": {
    "name": "ipython",
    "version": 3
   },
   "file_extension": ".py",
   "mimetype": "text/x-python",
   "name": "python",
   "nbconvert_exporter": "python",
   "pygments_lexer": "ipython3",
   "version": "3.6.5"
  }
 },
 "nbformat": 4,
 "nbformat_minor": 2
}
