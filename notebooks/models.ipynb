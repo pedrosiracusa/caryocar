{
 "cells": [
  {
   "cell_type": "code",
   "execution_count": 1,
   "metadata": {},
   "outputs": [],
   "source": [
    "import sys,os\n",
    "sys.path.append(os.path.expanduser('~/caryocar'))"
   ]
  },
  {
   "cell_type": "code",
   "execution_count": 2,
   "metadata": {},
   "outputs": [],
   "source": [
    "import scipy\n",
    "import networkx\n",
    "import itertools\n",
    "from collections import Counter"
   ]
  },
  {
   "cell_type": "markdown",
   "metadata": {},
   "source": [
    "# Collectors coworking Networks"
   ]
  },
  {
   "cell_type": "code",
   "execution_count": 3,
   "metadata": {},
   "outputs": [],
   "source": [
    "class CoworkingNetwork(networkx.Graph):\n",
    "    \"\"\"\n",
    "    Class for coworking networks. Extends networkx Graph class.\n",
    "    \n",
    "    Parameters\n",
    "    ----------\n",
    "    cliques : iterable\n",
    "        An iterable of iterables containing names used to compose cliques \n",
    "        in the network.\n",
    "        \n",
    "    namesMap (optional) : caryocar.NamesMap.\n",
    "        A caryocar NamesMap object for normalizing nodes names.\n",
    "    \n",
    "    Examples\n",
    "    --------\n",
    "    >>> collectors = [ ['a','b','c'], ['d','e'], ['a','c'] ]\n",
    "    >>> cwn = CoworkingNetwork(cliques=collectors)\n",
    "    \n",
    "    >>> cwn.nodes(data=True)\n",
    "    { 'a': {'count': 2}, \n",
    "      'b': {'count': 1}, \n",
    "      'c': {'count': 2}, \n",
    "      'd': {'count': 1}, \n",
    "      'e': {'count': 1} }    \n",
    "      \n",
    "    >>> cwn.edges(data=True)\n",
    "    [ ('a', 'b', {'count': 1}), \n",
    "      ('a', 'c', {'count': 2}), \n",
    "      ('b', 'c', {'count': 1}), \n",
    "      ('d', 'e', {'count': 1}) ]\n",
    "    \"\"\"\n",
    "    def __init__(self, data=None, cliques=None, namesMap=None, **attr):\n",
    "       \n",
    "        if cliques is not None:\n",
    "            if namesMap:\n",
    "                nmap = namesMap.getMap()\n",
    "                cliques = [ [ nmap[n] for n in nset ] for nset in cliques ]\n",
    "            \n",
    "            # prevent self-loops\n",
    "            cliques = [ list(set(nset)) for nset in cliques ]\n",
    "            \n",
    "            edgesLists = map( lambda n: itertools.combinations(n,r=2), cliques )\n",
    "            data = [ edge for edgesList in edgesLists for edge in edgesList ]\n",
    "            \n",
    "        super().__init__(data=data,**attr)\n",
    "    \n",
    "        # insert nodes and set count attribute\n",
    "        nodes_counts = Counter( col for clique in cliques for col in clique )\n",
    "        nodes = nodes_counts.keys()\n",
    "        \n",
    "        self.add_nodes_from(nodes)\n",
    "        networkx.set_node_attributes(self,values=nodes_counts,name='count')\n",
    "        \n",
    "        # set edges count attribute\n",
    "        edges = data\n",
    "        edges_counts = Counter(edges)\n",
    "        networkx.set_edge_attributes(self,values=edges_counts,name='count')"
   ]
  },
  {
   "cell_type": "code",
   "execution_count": 4,
   "metadata": {},
   "outputs": [],
   "source": [
    "collectors = [\n",
    "    # col1, col2, col3 and col4 are connected\n",
    "    ['col1','col2','col3','col4'],\n",
    "    ['col1','col2','col3'],\n",
    "    ['col1','col2','col3'],\n",
    "    ['col1','col3','col2'],\n",
    "    ['col1','col2'],\n",
    "    ['col1','col2'],\n",
    "    ['col1','col2'],\n",
    "    ['col1','col3'],\n",
    "    ['col2','col3'],\n",
    "    ['col2','col4'],\n",
    "    ['col2','col4'],\n",
    "    ['col4'],\n",
    "    # col5 is isolated\n",
    "    ['col5'],\n",
    "    ['col5'],\n",
    "    # col7 and col8 are connected\n",
    "    ['col7','col8'],\n",
    "    ['col7','col8'],\n",
    "    # col9 would lead to self loop\n",
    "    ['col9','col9'],\n",
    "    ['col9','col9']\n",
    "]"
   ]
  },
  {
   "cell_type": "code",
   "execution_count": 5,
   "metadata": {},
   "outputs": [],
   "source": [
    "cwn=CoworkingNetwork(cliques=collectors)"
   ]
  },
  {
   "cell_type": "markdown",
   "metadata": {},
   "source": [
    "#### Tests"
   ]
  },
  {
   "cell_type": "code",
   "execution_count": 6,
   "metadata": {},
   "outputs": [],
   "source": [
    "# nodes with no connections are also included in the network\n",
    "assert( 'col5' in cwn.nodes() )"
   ]
  },
  {
   "cell_type": "code",
   "execution_count": 7,
   "metadata": {},
   "outputs": [],
   "source": [
    "# all edges have a 'count' attribute\n",
    "assert( all( data.get('count') is not None for u,v,data in cwn.edges(data=True) ) )\n",
    "\n",
    "# all nodes have a 'count' attribute\n",
    "assert( all( data.get('count') is not None for u,data in cwn.nodes(data=True)) )"
   ]
  },
  {
   "cell_type": "code",
   "execution_count": 8,
   "metadata": {},
   "outputs": [],
   "source": [
    "# col1 holds 7 ties with col2\n",
    "assert(cwn['col1']['col2'].get('count')==7)\n",
    "\n",
    "# col5 appears 2 times but holds no ties with anyone\n",
    "assert( cwn.nodes(data=True)['col5'].get('count')==2 )\n",
    "assert( sum(v.get('count') for k,v in cwn['col5'].items() )==0 )\n",
    "\n",
    "# col4 appears 4 times but holds 5 ties\n",
    "assert( cwn.nodes(data=True)['col4'].get('count')==4 )\n",
    "assert( sum( v.get('count') for k,v in cwn['col4'].items() )==5 )"
   ]
  },
  {
   "cell_type": "code",
   "execution_count": 9,
   "metadata": {},
   "outputs": [
    {
     "data": {
      "text/plain": [
       "[['col3', 'col4', 'col2', 'col1'], ['col7', 'col8'], ['col5'], ['col9']]"
      ]
     },
     "execution_count": 9,
     "metadata": {},
     "output_type": "execute_result"
    }
   ],
   "source": [
    "# connected components subgraphs can be derived\n",
    "[ list(sg.nodes()) for sg in list(networkx.connected_component_subgraphs(cwn)) ]"
   ]
  },
  {
   "cell_type": "code",
   "execution_count": 10,
   "metadata": {},
   "outputs": [],
   "source": [
    "# self-loops are not allowed: \n",
    "## make sure col9 is not linked to itself\n",
    "assert( cwn['col9'].get('col9') is None )\n",
    "\n",
    "# col9 appears twice\n",
    "assert( cwn.nodes(data=True)['col9'].get('count')==2 )"
   ]
  },
  {
   "cell_type": "markdown",
   "metadata": {},
   "source": [
    "### Using names maps"
   ]
  },
  {
   "cell_type": "code",
   "execution_count": 11,
   "metadata": {},
   "outputs": [],
   "source": [
    "from caryocar.cleaning import NamesMap\n",
    "\n",
    "remapping = {\n",
    "    'col7':'col8',\n",
    "    'col8':'COL8',\n",
    "    'col3':'COL_3'\n",
    "}\n",
    "\n",
    "nm = NamesMap( names=[ n for clique in collectors for n in clique  ], \n",
    "               normalizationFunc=lambda x: x, \n",
    "               remappingIndex=remapping )"
   ]
  },
  {
   "cell_type": "code",
   "execution_count": 12,
   "metadata": {},
   "outputs": [],
   "source": [
    "cwn = CoworkingNetwork(cliques=collectors,namesMap=nm)"
   ]
  },
  {
   "cell_type": "markdown",
   "metadata": {},
   "source": [
    "#### Tests"
   ]
  },
  {
   "cell_type": "code",
   "execution_count": 13,
   "metadata": {},
   "outputs": [
    {
     "data": {
      "text/plain": [
       "EdgeDataView([('col4', 'COL_3', {'count': 1}), ('col4', 'col2', {'count': 3}), ('col4', 'col1', {'count': 1}), ('COL_3', 'col2', {'count': 5}), ('COL_3', 'col1', {'count': 5}), ('col2', 'col1', {'count': 7})])"
      ]
     },
     "execution_count": 13,
     "metadata": {},
     "output_type": "execute_result"
    }
   ],
   "source": [
    "cwn.edges(data=True)"
   ]
  },
  {
   "cell_type": "code",
   "execution_count": 14,
   "metadata": {},
   "outputs": [],
   "source": [
    "# names which were remapped to another one are excluded (col7 remaps to col8)\n",
    "assert( cwn.nodes().get('col7') is None )\n",
    "\n",
    "# col8 (which was also remapped from col7) occurrs 2 times\n",
    "assert( cwn.nodes(data=True)['COL8'].get('count')==2 )"
   ]
  },
  {
   "cell_type": "code",
   "execution_count": 15,
   "metadata": {},
   "outputs": [],
   "source": [
    "# ties between two variants of an entity get suppressed (col7-col8, if col7 remaps to col8)\n",
    "assert( sum(cwn['COL8'])==0 )"
   ]
  },
  {
   "cell_type": "markdown",
   "metadata": {},
   "source": [
    "---"
   ]
  },
  {
   "cell_type": "markdown",
   "metadata": {},
   "source": [
    "# Species-collectors Networks"
   ]
  },
  {
   "cell_type": "code",
   "execution_count": 275,
   "metadata": {},
   "outputs": [],
   "source": [
    "class SpeciesCollectorsNetwork(networkx.Graph):\n",
    "    \"\"\"\n",
    "    Class for Species-collectors networks. Extends networkx Graph class.\n",
    "    \n",
    "    Parameters\n",
    "    ----------\n",
    "    species : List or iterable\n",
    "        A list containing names of species to be associated, in order, to elements in the collectors list.\n",
    "        \n",
    "    collectors : List or iterable\n",
    "        A list containing lists of collectors names, to be associated, in order, to elements in the species list.\n",
    "        \n",
    "    namesMap (optional) : caryocar.NamesMap\n",
    "        A caryocar NamesMap object for normalizing nodes names.\n",
    "    \n",
    "    Notes\n",
    "    -----\n",
    "    For the model to be created both the species and collectors lists must have the same length.\n",
    "    The ordering of both species and collectors list is important for creating bipartite edges.\n",
    "    \n",
    "    Examples\n",
    "    --------\n",
    "    >>> cols=[ ['col1','col2','col3'],\n",
    "               ['col1','col2'],\n",
    "               ['col2','col3'],\n",
    "               ['col4','col5'],\n",
    "               ['col4'],\n",
    "               ['col5','col4'] ]\n",
    "      \n",
    "    >>> spp=['sp1','sp2','sp3','sp2','sp3','sp2']\n",
    "    \n",
    "    >>> scn = SpeciesCollectorsNetwork( species=spp, collectors=cols )\n",
    "    \n",
    "    >>> scn.nodes(data=True)\n",
    "    { 'sp1': {'bipartite': 1, 'count': 1}, \n",
    "      'col1': {'bipartite': 0, 'count': 2}, \n",
    "      'col2': {'bipartite': 0, 'count': 3}, \n",
    "      'col3': {'bipartite': 0, 'count': 2}, \n",
    "      'sp2': {'bipartite': 1, 'count': 3}, \n",
    "      'sp3': {'bipartite': 1, 'count': 2}, \n",
    "      'col4': {'bipartite': 0, 'count': 3}, \n",
    "      'col5': {'bipartite': 0, 'count': 2} }\n",
    "      \n",
    "    >>> scn.edges(data=True)\n",
    "    [ ('sp1', 'col1', {'count': 1}), \n",
    "      ('sp1', 'col2', {'count': 1}), \n",
    "      ('sp1', 'col3', {'count': 1}), \n",
    "      ('col1', 'sp2', {'count': 1}), \n",
    "      ('col2', 'sp2', {'count': 1}), \n",
    "      ('col2', 'sp3', {'count': 1}), \n",
    "      ('col3', 'sp3', {'count': 1}), \n",
    "      ('sp2', 'col4', {'count': 2}), \n",
    "      ('sp2', 'col5', {'count': 2}), \n",
    "      ('sp3', 'col4', {'count': 1}) ]    \n",
    "    \"\"\"\n",
    "    def __init__(self, data=None, species=None, collectors=None, namesMap=None, **attr):\n",
    "        \n",
    "        self._parseInputData(species,collectors)\n",
    "        \n",
    "        self._biadj_matrix = None\n",
    "        \n",
    "        set_bipartite_attr=False # a flag for setting bipartite attribute after graph creation\n",
    "        if species is not None and collectors is not None:\n",
    "            if namesMap:\n",
    "                nmap = namesMap.getMap()\n",
    "                collectors = [ [ nmap[n] for n in nset ] for nset in collectors ]\n",
    "            \n",
    "            # build edges\n",
    "            if len(species)==len(collectors):\n",
    "                species = list(species)\n",
    "                collectors = list(collectors)\n",
    "                \n",
    "                data = [ (sp,col) for i,sp in enumerate(species) for col in collectors[i] ]\n",
    "                set_bipartite_attr=True\n",
    "\n",
    "        super().__init__(data=data,**attr)\n",
    "        \n",
    "        if set_bipartite_attr:\n",
    "            networkx.set_node_attributes( self, values=dict( (n,1) for n in species), name='bipartite' )\n",
    "            networkx.set_node_attributes( self, values=dict( (n,0) for cols in collectors for n in cols), name='bipartite' )\n",
    "            \n",
    "        # set nodes count attribute\n",
    "        nodes_cols_counts = Counter( c for cols in collectors for c in cols )\n",
    "        nodes_sp_counts = Counter( species )\n",
    "        nodes_counts = nodes_cols_counts.copy()\n",
    "        nodes_counts.update(nodes_sp_counts)\n",
    "        networkx.set_node_attributes( self, values=nodes_counts, name='count' )\n",
    "\n",
    "        # set edges count attribute\n",
    "        edges = data\n",
    "        networkx.set_edge_attributes( self, values=Counter(edges), name='count' ) \n",
    "    \n",
    "    def _parseInputData( self, species, collectors ):\n",
    "        # Check format\n",
    "        if not all( isinstance(lst,list) for lst in collectors ) and \\\n",
    "               all( isinstance(c,str) for lst in collectors for c in lst ):\n",
    "            raise ValueError(\"Collectors data input must be in the format of list of lists of strings.\")\n",
    "        \n",
    "        if not all( isinstance(sp,str) for sp in species ):\n",
    "            raise ValueError(\"Species data input must be in the format of list of strings.\")\n",
    "            \n",
    "        # Check lengths\n",
    "        if len(species)!=len(collectors):\n",
    "            raise ValueError(\"Species and collectors data lists have different lengths.\")\n",
    "        return\n",
    "    \n",
    "    def _buildBiadjMatrix( self, col_sp_order=None ):\n",
    "        col_sp_order=(sorted(self.listCollectorsNodes()),sorted(self.listSpeciesNodes())) if col_sp_order is None else col_sp_order\n",
    "        m = networkx.bipartite.biadjacency_matrix(self,\n",
    "                                                  row_order=col_sp_order[0],\n",
    "                                                  column_order=col_sp_order[1],\n",
    "                                                  weight='count')\n",
    "        self._biadj_matrix = (*col_sp_order,m)\n",
    "        \n",
    "    def _getBiadjMatrix( self ):\n",
    "        if self._biadj_matrix is None:\n",
    "            self._buildBiadjMatrix()\n",
    "        return self._biadj_matrix\n",
    "        \n",
    "    def listSpeciesNodes(self,data=False):\n",
    "        \"\"\"\n",
    "        Lists nodes from the species set.\n",
    "        \n",
    "        Parameters\n",
    "        ----------\n",
    "        data : string or bool, default=False\n",
    "            If False only nodes ids are returned.\n",
    "            If True nodes ids are returned with their respective attribute dicts as (n, attrDict).\n",
    "            If a string is passed (with an attribute name) then its value is returned in a 2-tuple (n, attrValue).\n",
    "        \n",
    "        Returns\n",
    "        -------\n",
    "        Either a list of tuples (n,attrDict) or (n,attrValue) where n is the node's id; or a list of nodes id's n.\n",
    "        \n",
    "        Note\n",
    "        ----\n",
    "        It is not guaranteed that the same order will be mainained in multiple calls of this function.\n",
    "        \"\"\"\n",
    "        spNodes = set( n for n,b in self.nodes(data='bipartite') if b==1 )\n",
    "        if data==False:\n",
    "            return [ n for n in self.nodes(data=data) if n in spNodes ]\n",
    "        else:\n",
    "            return [ (n,d) for n,d in self.nodes(data=data) if n in spNodes ]\n",
    "        \n",
    "    def listCollectorsNodes(self,data=False):\n",
    "        \"\"\"\n",
    "        Lists nodes from the collectors set.\n",
    "        \n",
    "        Parameters\n",
    "        ----------\n",
    "        data : string or bool, default=False\n",
    "            If False only nodes ids are returned.\n",
    "            If True nodes ids are returned with their respective attribute dicts as (n, attrDict).\n",
    "            If a string is passed (with an attribute name) then its value is returned in a 2-tuple (n, attrValue).\n",
    "        \n",
    "        Returns\n",
    "        -------\n",
    "        Either a list of tuples (n,attrDict) or (n,attrValue) where n is the node's id; or a list of nodes id's n.\n",
    "        \n",
    "        Note\n",
    "        ----\n",
    "        It is not guaranteed that the same order will be mainained in multiple calls of this function.\n",
    "        \"\"\"\n",
    "        colNodes = set( n for n,b in self.nodes(data='bipartite') if b==0 )\n",
    "        if data==False:\n",
    "            return [ n for n in self.nodes(data=data) if n in colNodes ]\n",
    "        return [ (n,d) for n,d in self.nodes(data=data) if n in colNodes ]\n",
    "    \n",
    "    def getSpeciesBag( self, collector ):\n",
    "        \"\"\"\n",
    "        Parameters\n",
    "        ----------\n",
    "        collector : string\n",
    "          The id of the collector from which to derive the species bag vector.\n",
    "          \n",
    "        Returns\n",
    "        -------\n",
    "        A tuple (spIds, vector), where the first element is a list containing all species names and\n",
    "        the second is the vector containing their counts.\n",
    "        The species bag vector is stored as a 1xn SciPy sparse matrix.\n",
    "        \"\"\"\n",
    "        if self._biadj_matrix is None:\n",
    "            self._buildBiadjMatrix()\n",
    "            \n",
    "        colList, spList, m = self._getBiadjMatrix()\n",
    "        i = colList.index(collector)\n",
    "        vector = m.getrow(i)\n",
    "        return (spList, vector)\n",
    "    \n",
    "    def getInterestVector( self, species ):\n",
    "        \"\"\"\n",
    "        Parameters\n",
    "        ----------\n",
    "        species : string\n",
    "          The id of the species from which to derive the interest vector.\n",
    "          \n",
    "        Returns\n",
    "        -------\n",
    "        A tuple (colIds, vector), where the first element is a list containing all collectors names and\n",
    "        the second is the vector containing their counts.\n",
    "        The interest vector is stored as a 1xn SciPy sparse matrix.\n",
    "        \"\"\"\n",
    "        if self._biadj_matrix is None:\n",
    "            self._buildBiadjMatrix()\n",
    "        \n",
    "        colList, spList, m = self._getBiadjMatrix()\n",
    "        m = m.transpose()\n",
    "        i = spList.index(species)\n",
    "        vector = m.getrow(i)\n",
    "        return (colList,vector)\n",
    "\n"
   ]
  },
  {
   "cell_type": "code",
   "execution_count": 276,
   "metadata": {},
   "outputs": [],
   "source": [
    "cols=[['col1','col2','col3'],\n",
    "      ['col1','col2'],\n",
    "      ['col2','col3'],\n",
    "      ['col4','col5'],\n",
    "      ['col4'],\n",
    "      ['col5','col4']]\n",
    "\n",
    "spp=['sp1','sp2','sp3','sp2','sp3','sp2']"
   ]
  },
  {
   "cell_type": "code",
   "execution_count": 277,
   "metadata": {},
   "outputs": [],
   "source": [
    "scn = SpeciesCollectorsNetwork(species=spp,collectors=cols,)"
   ]
  },
  {
   "cell_type": "markdown",
   "metadata": {},
   "source": [
    "#### Tests"
   ]
  },
  {
   "cell_type": "code",
   "execution_count": 278,
   "metadata": {},
   "outputs": [],
   "source": [
    "# Collectors and species input data\n",
    "# Collectors input data must be list of lists of strings\n",
    "# 1\n",
    "cols=['col1','col2','col3']\n",
    "spp=['sp1','sp2','sp3']\n",
    "error=None\n",
    "try:\n",
    "    scn=SpeciesCollectorsNetwork(species=spp,collectors=cols)\n",
    "except ValueError as e:\n",
    "    error=e\n",
    "    \n",
    "assert(isinstance(error,ValueError))\n",
    "\n",
    "# 2\n",
    "cols=[[['col1','col2','col3']]]\n",
    "spp=['sp1','sp2','sp3']\n",
    "error=None\n",
    "try:\n",
    "    scn=SpeciesCollectorsNetwork(species=spp,collectors=cols)\n",
    "except ValueError as e:\n",
    "    error=e\n",
    "    \n",
    "assert(isinstance(error,ValueError))\n",
    "\n",
    "# Species input data must be list of strings\n",
    "cols=[['col1'],['col2'],['col3']]\n",
    "spp = [['sp1'],'sp2','sp3']\n",
    "error=None\n",
    "try:\n",
    "    scn=SpeciesCollectorsNetwork(species=spp,collectors=cols)\n",
    "except ValueError as e:\n",
    "    error=e\n",
    "    \n",
    "assert(isinstance(error,ValueError))\n",
    "\n",
    "# Correct case\n",
    "cols=[['col1'],['col2'],['col3']]\n",
    "spp = ['sp1','sp2','sp3']\n",
    "assert( SpeciesCollectorsNetwork(species=spp,collectors=cols) )\n",
    "\n",
    "# Species and collectors input data lists must have the same lengths\n",
    "#1 (correct case)\n",
    "cols=[['col1', 'col4'],['col2'],['col3']]\n",
    "spp = ['sp1','sp2','sp3']\n",
    "assert( SpeciesCollectorsNetwork(species=spp,collectors=cols) )\n",
    "\n",
    "#2\n",
    "cols=[['col1', 'col4'],['col2']]\n",
    "spp = ['sp1','sp2','sp3']\n",
    "error=None\n",
    "try:\n",
    "    scn=SpeciesCollectorsNetwork(species=spp,collectors=cols)\n",
    "except ValueError as e:\n",
    "    error=e\n",
    "    \n",
    "#3\n",
    "cols=[['col1', 'col4'],['col2']]\n",
    "spp = ['sp1']\n",
    "error=None\n",
    "try:\n",
    "    scn=SpeciesCollectorsNetwork(species=spp,collectors=cols)\n",
    "except ValueError as e:\n",
    "    error=e"
   ]
  },
  {
   "cell_type": "code",
   "execution_count": null,
   "metadata": {},
   "outputs": [],
   "source": [
    "# Species a"
   ]
  },
  {
   "cell_type": "code",
   "execution_count": 211,
   "metadata": {},
   "outputs": [
    {
     "data": {
      "text/plain": [
       "matrix([[1, 1, 0]], dtype=int64)"
      ]
     },
     "execution_count": 211,
     "metadata": {},
     "output_type": "execute_result"
    }
   ],
   "source": [
    "scn.getSpeciesBag('col1')[1].todense()"
   ]
  },
  {
   "cell_type": "code",
   "execution_count": 176,
   "metadata": {},
   "outputs": [
    {
     "data": {
      "text/plain": [
       "EdgeDataView([('sp1', 'col1', {'count': 1}), ('sp1', 'col2', {'count': 1}), ('sp1', 'col3', {'count': 1}), ('col1', 'sp2', {'count': 1}), ('col2', 'sp2', {'count': 1}), ('col2', 'sp3', {'count': 1}), ('col3', 'sp3', {'count': 1}), ('sp2', 'col4', {'count': 2}), ('sp2', 'col5', {'count': 2}), ('sp3', 'col4', {'count': 1})])"
      ]
     },
     "execution_count": 176,
     "metadata": {},
     "output_type": "execute_result"
    }
   ],
   "source": [
    "scn.edges(data=True)"
   ]
  },
  {
   "cell_type": "code",
   "execution_count": 164,
   "metadata": {},
   "outputs": [
    {
     "data": {
      "text/plain": [
       "['sp1', 'sp2', 'sp3']"
      ]
     },
     "execution_count": 164,
     "metadata": {},
     "output_type": "execute_result"
    }
   ],
   "source": [
    "scn.listSpeciesNodes(data=False)"
   ]
  },
  {
   "cell_type": "code",
   "execution_count": 170,
   "metadata": {},
   "outputs": [
    {
     "data": {
      "text/plain": [
       "[('col1', None),\n",
       " ('col2', None),\n",
       " ('col3', None),\n",
       " ('col4', None),\n",
       " ('col5', None)]"
      ]
     },
     "execution_count": 170,
     "metadata": {},
     "output_type": "execute_result"
    }
   ],
   "source": [
    "scn.listCollectorsNodes(data='counta')"
   ]
  },
  {
   "cell_type": "code",
   "execution_count": 165,
   "metadata": {},
   "outputs": [
    {
     "data": {
      "text/plain": [
       "['sp1', 'col1', 'col2', 'col3', 'sp2', 'sp3', 'col4', 'col5']"
      ]
     },
     "execution_count": 165,
     "metadata": {},
     "output_type": "execute_result"
    }
   ],
   "source": [
    "list(scn.nodes(data=False))"
   ]
  },
  {
   "cell_type": "code",
   "execution_count": 122,
   "metadata": {},
   "outputs": [
    {
     "data": {
      "text/plain": [
       "[('sp1', 1),\n",
       " ('col1', 0),\n",
       " ('col2', 0),\n",
       " ('col3', 0),\n",
       " ('sp2', 1),\n",
       " ('sp3', 1),\n",
       " ('col4', 0),\n",
       " ('col5', 0)]"
      ]
     },
     "execution_count": 122,
     "metadata": {},
     "output_type": "execute_result"
    }
   ],
   "source": [
    "list(scn.nodes(data='bipartite'))"
   ]
  },
  {
   "cell_type": "code",
   "execution_count": 137,
   "metadata": {},
   "outputs": [
    {
     "data": {
      "text/plain": [
       "['sp1', 'col1', 'col2', 'col3', 'sp2', 'sp3', 'col4', 'col5']"
      ]
     },
     "execution_count": 137,
     "metadata": {},
     "output_type": "execute_result"
    }
   ],
   "source": [
    "list(scn.nodes(data=False))"
   ]
  },
  {
   "cell_type": "code",
   "execution_count": 124,
   "metadata": {},
   "outputs": [
    {
     "ename": "SyntaxError",
     "evalue": "EOL while scanning string literal (<ipython-input-124-02c2b496f3e8>, line 1)",
     "output_type": "error",
     "traceback": [
      "\u001b[0;36m  File \u001b[0;32m\"<ipython-input-124-02c2b496f3e8>\"\u001b[0;36m, line \u001b[0;32m1\u001b[0m\n\u001b[0;31m    scn.nodes & {scn.nodes(data='bipartite)}\u001b[0m\n\u001b[0m                                            ^\u001b[0m\n\u001b[0;31mSyntaxError\u001b[0m\u001b[0;31m:\u001b[0m EOL while scanning string literal\n"
     ]
    }
   ],
   "source": [
    "scn.nodes & {scn.nodes(data='bipartite)}"
   ]
  },
  {
   "cell_type": "code",
   "execution_count": 64,
   "metadata": {},
   "outputs": [
    {
     "data": {
      "text/plain": [
       "({'sp1', 'sp2', 'sp3'}, {'col1', 'col2', 'col3', 'col4', 'col5'})"
      ]
     },
     "execution_count": 64,
     "metadata": {},
     "output_type": "execute_result"
    }
   ],
   "source": [
    "networkx.bipartite."
   ]
  },
  {
   "cell_type": "code",
   "execution_count": 93,
   "metadata": {},
   "outputs": [
    {
     "data": {
      "text/plain": [
       "EdgeView([('sp1', 'col1'), ('sp1', 'col2'), ('sp1', 'col3'), ('col1', 'sp2'), ('col2', 'sp2'), ('col2', 'sp3'), ('col3', 'sp3'), ('sp2', 'col4'), ('sp2', 'col5'), ('sp3', 'col4')])"
      ]
     },
     "execution_count": 93,
     "metadata": {},
     "output_type": "execute_result"
    }
   ],
   "source": [
    "scn.edges"
   ]
  },
  {
   "cell_type": "code",
   "execution_count": 104,
   "metadata": {},
   "outputs": [
    {
     "data": {
      "text/plain": [
       "{'sp1', 'sp2', 'sp3'}"
      ]
     },
     "execution_count": 104,
     "metadata": {},
     "output_type": "execute_result"
    }
   ],
   "source": [
    "networkx.bipartite.sets(scn)[0]"
   ]
  },
  {
   "cell_type": "code",
   "execution_count": 86,
   "metadata": {},
   "outputs": [
    {
     "data": {
      "text/plain": [
       "{'col1', 'col2', 'col3', 'col4', 'col5'}"
      ]
     },
     "execution_count": 86,
     "metadata": {},
     "output_type": "execute_result"
    }
   ],
   "source": [
    "{n for n, d in scn.nodes(data=True) if d['bipartite']==0}"
   ]
  },
  {
   "cell_type": "code",
   "execution_count": 71,
   "metadata": {},
   "outputs": [
    {
     "data": {
      "text/plain": [
       "NodeDataView({'sp1': {'bipartite': 1, 'count': 1}, 'col1': {'bipartite': 0, 'count': 2}, 'col2': {'bipartite': 0, 'count': 3}, 'col3': {'bipartite': 0, 'count': 2}, 'sp2': {'bipartite': 1, 'count': 3}, 'sp3': {'bipartite': 1, 'count': 2}, 'col4': {'bipartite': 0, 'count': 3}, 'col5': {'bipartite': 0, 'count': 2}})"
      ]
     },
     "execution_count": 71,
     "metadata": {},
     "output_type": "execute_result"
    }
   ],
   "source": [
    "scn.nodes(data=True)"
   ]
  },
  {
   "cell_type": "code",
   "execution_count": 59,
   "metadata": {},
   "outputs": [
    {
     "data": {
      "text/plain": [
       "matrix([[0, 2, 1]], dtype=int64)"
      ]
     },
     "execution_count": 59,
     "metadata": {},
     "output_type": "execute_result"
    }
   ],
   "source": [
    "scn.getSpeciesBag('col4')[1].todense()"
   ]
  },
  {
   "cell_type": "code",
   "execution_count": 43,
   "metadata": {},
   "outputs": [
    {
     "name": "stdout",
     "output_type": "stream",
     "text": [
      "['col1', 'col2', 'col3', 'col4', 'col5']\n",
      "['sp1', 'sp2', 'sp3']\n"
     ]
    }
   ],
   "source": [
    "print(scn._biadj_matrix[0])\n",
    "print(scn._biadj_matrix[1])"
   ]
  },
  {
   "cell_type": "code",
   "execution_count": 41,
   "metadata": {},
   "outputs": [
    {
     "data": {
      "text/plain": [
       "matrix([[1, 1, 0],\n",
       "        [1, 1, 1],\n",
       "        [1, 0, 1],\n",
       "        [0, 2, 1],\n",
       "        [0, 2, 0]], dtype=int64)"
      ]
     },
     "execution_count": 41,
     "metadata": {},
     "output_type": "execute_result"
    }
   ],
   "source": [
    "scn._biadj_matrix[2].todense()"
   ]
  },
  {
   "cell_type": "code",
   "execution_count": 49,
   "metadata": {},
   "outputs": [
    {
     "data": {
      "text/plain": [
       "matrix([[1, 1, 0, 2, 2]], dtype=int64)"
      ]
     },
     "execution_count": 49,
     "metadata": {},
     "output_type": "execute_result"
    }
   ],
   "source": [
    "scn.getInterest('sp2')[1].todense()"
   ]
  },
  {
   "cell_type": "code",
   "execution_count": 52,
   "metadata": {},
   "outputs": [
    {
     "data": {
      "text/plain": [
       "matrix([[0, 2, 1]], dtype=int64)"
      ]
     },
     "execution_count": 52,
     "metadata": {},
     "output_type": "execute_result"
    }
   ],
   "source": [
    "scn.getSpeciesBag('col4')[1].todense()"
   ]
  },
  {
   "cell_type": "code",
   "execution_count": 26,
   "metadata": {},
   "outputs": [
    {
     "data": {
      "text/plain": [
       "matrix([[0, 1, 1]], dtype=int64)"
      ]
     },
     "execution_count": 26,
     "metadata": {},
     "output_type": "execute_result"
    }
   ],
   "source": [
    "scn.getSpeciesBag('col4')[1].todense()"
   ]
  },
  {
   "cell_type": "code",
   "execution_count": null,
   "metadata": {},
   "outputs": [],
   "source": [
    "networkx.bipartite.biadjacency_matrix()"
   ]
  },
  {
   "cell_type": "code",
   "execution_count": 451,
   "metadata": {},
   "outputs": [
    {
     "data": {
      "text/plain": [
       "NodeDataView({'sp1': {'bipartite': 1}, 'col1': {'bipartite': 0}, 'col2': {'bipartite': 0}, 'col3': {'bipartite': 0}, 'sp2': {'bipartite': 1}, 'sp3': {'bipartite': 1}, 'col4': {'bipartite': 0}, 'col5': {'bipartite': 0}, 'col6': {'bipartite': 0}})"
      ]
     },
     "execution_count": 451,
     "metadata": {},
     "output_type": "execute_result"
    }
   ],
   "source": [
    "scn.nodes(data=True)"
   ]
  },
  {
   "cell_type": "code",
   "execution_count": null,
   "metadata": {},
   "outputs": [],
   "source": [
    "CoworkingNetwork()"
   ]
  },
  {
   "cell_type": "code",
   "execution_count": null,
   "metadata": {},
   "outputs": [],
   "source": []
  },
  {
   "cell_type": "code",
   "execution_count": null,
   "metadata": {},
   "outputs": [],
   "source": []
  }
 ],
 "metadata": {
  "kernelspec": {
   "display_name": "Python 3",
   "language": "python",
   "name": "python3"
  },
  "language_info": {
   "codemirror_mode": {
    "name": "ipython",
    "version": 3
   },
   "file_extension": ".py",
   "mimetype": "text/x-python",
   "name": "python",
   "nbconvert_exporter": "python",
   "pygments_lexer": "ipython3",
   "version": "3.6.4"
  }
 },
 "nbformat": 4,
 "nbformat_minor": 2
}
