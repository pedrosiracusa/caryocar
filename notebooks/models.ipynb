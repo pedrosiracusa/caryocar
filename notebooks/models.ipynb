{
 "cells": [
  {
   "cell_type": "code",
   "execution_count": 1,
   "metadata": {},
   "outputs": [],
   "source": [
    "import sys,os\n",
    "sys.path.append(os.path.expanduser('~/caryocar'))"
   ]
  },
  {
   "cell_type": "code",
   "execution_count": null,
   "metadata": {},
   "outputs": [],
   "source": [
    "import numpy\n",
    "import networkx\n",
    "import itertools\n",
    "from collections import Counter"
   ]
  },
  {
   "cell_type": "markdown",
   "metadata": {},
   "source": [
    "# Collectors coworking Networks"
   ]
  },
  {
   "cell_type": "code",
   "execution_count": 312,
   "metadata": {},
   "outputs": [],
   "source": [
    "class CoworkingNetwork(networkx.Graph):\n",
    "    \"\"\"\n",
    "    Class for coworking networks. Extends networkx Graph class.\n",
    "    \n",
    "    Parameters\n",
    "    ----------\n",
    "    cliques : iterable\n",
    "        An iterable of iterables containing names used to compose cliques \n",
    "        in the network.\n",
    "        \n",
    "    namesMap : NamesMap\n",
    "        A NamesMap object for normalizing nodes names.\n",
    "    \n",
    "    Examples\n",
    "    --------\n",
    "    >>> collectors = [ ['a','b','c'], ['d','e'], ['a','c'] ]\n",
    "    >>> cwn = CoworkingNetwork(cliques=collectors)\n",
    "    \n",
    "    >>> cwn.nodes(data=True)\n",
    "    { 'a': {'count': 2}, \n",
    "      'b': {'count': 1}, \n",
    "      'c': {'count': 2}, \n",
    "      'd': {'count': 1}, \n",
    "      'e': {'count': 1} }    \n",
    "      \n",
    "    >>> cwn.edges(data=True)\n",
    "    [ ('a', 'b', {'count': 1}), \n",
    "      ('a', 'c', {'count': 2}), \n",
    "      ('b', 'c', {'count': 1}), \n",
    "      ('d', 'e', {'count': 1}) ]\n",
    "      \n",
    "\n",
    "    \"\"\"\n",
    "    def __init__(self, data=None, cliques=None, namesMap=None, **attr):\n",
    "       \n",
    "        if cliques is not None:\n",
    "            if namesMap:\n",
    "                nmap = namesMap.getMap()\n",
    "                cliques = [ [ nmap[n] for n in nset ] for nset in cliques ]\n",
    "            \n",
    "            # prevent self-loops\n",
    "            cliques = [ list(set(nset)) for nset in cliques ]\n",
    "            \n",
    "            edgesLists = map( lambda n: itertools.combinations(n,r=2), cliques )\n",
    "            data = [ edge for edgesList in edgesLists for edge in edgesList ]\n",
    "            \n",
    "        super().__init__(data=data,**attr)\n",
    "    \n",
    "        # insert nodes and set count attribute\n",
    "        nodes_counts = Counter( col for clique in cliques for col in clique )\n",
    "        nodes = nodes_counts.keys()\n",
    "        \n",
    "        self.add_nodes_from(nodes)\n",
    "        networkx.set_node_attributes(self,nodes_counts,'count')\n",
    "        \n",
    "        # set edges count attribute\n",
    "        edges = data\n",
    "        edges_counts = Counter(edges)\n",
    "        networkx.set_edge_attributes(self,edges_counts,'count')"
   ]
  },
  {
   "cell_type": "code",
   "execution_count": 372,
   "metadata": {},
   "outputs": [],
   "source": [
    "collectors = [\n",
    "    # col1, col2, col3 and col4 are connected\n",
    "    ['col1','col2','col3','col4'],\n",
    "    ['col1','col2','col3'],\n",
    "    ['col1','col2','col3'],\n",
    "    ['col1','col3','col2'],\n",
    "    ['col1','col2'],\n",
    "    ['col1','col2'],\n",
    "    ['col1','col2'],\n",
    "    ['col1','col3'],\n",
    "    ['col2','col3'],\n",
    "    ['col2','col4'],\n",
    "    ['col2','col4'],\n",
    "    ['col4'],\n",
    "    # col5 is isolated\n",
    "    ['col5'],\n",
    "    ['col5'],\n",
    "    # col7 and col8 are connected\n",
    "    ['col7','col8'],\n",
    "    ['col7','col8'],\n",
    "    # col9 would lead to self loop\n",
    "    ['col9','col9'],\n",
    "    ['col9','col9']\n",
    "]"
   ]
  },
  {
   "cell_type": "code",
   "execution_count": 373,
   "metadata": {},
   "outputs": [],
   "source": [
    "cwn=CoworkingNetwork(cliques=collectors)"
   ]
  },
  {
   "cell_type": "markdown",
   "metadata": {},
   "source": [
    "#### Tests"
   ]
  },
  {
   "cell_type": "code",
   "execution_count": 374,
   "metadata": {},
   "outputs": [],
   "source": [
    "# nodes with no connections are also included in the network\n",
    "assert( 'col5' in cwn.nodes() )"
   ]
  },
  {
   "cell_type": "code",
   "execution_count": 375,
   "metadata": {},
   "outputs": [],
   "source": [
    "# all edges have a 'count' attribute\n",
    "assert( all( data.get('count') is not None for u,v,data in cwn.edges(data=True) ) )\n",
    "\n",
    "# all nodes have a 'count' attribute\n",
    "assert( all( data.get('count') is not None for u,data in cwn.nodes(data=True)) )"
   ]
  },
  {
   "cell_type": "code",
   "execution_count": 376,
   "metadata": {},
   "outputs": [],
   "source": [
    "# col1 holds 7 ties with col2\n",
    "assert(cwn['col1']['col2'].get('count')==7)\n",
    "\n",
    "# col5 appears 2 times but holds no ties with anyone\n",
    "assert( cwn.nodes(data=True)['col5'].get('count')==2 )\n",
    "assert( sum(v.get('count') for k,v in cwn['col5'].items() )==0 )\n",
    "\n",
    "# col4 appears 4 times but holds 5 ties\n",
    "assert( cwn.nodes(data=True)['col4'].get('count')==4 )\n",
    "assert( sum( v.get('count') for k,v in cwn['col4'].items() )==5 )"
   ]
  },
  {
   "cell_type": "code",
   "execution_count": 377,
   "metadata": {},
   "outputs": [
    {
     "data": {
      "text/plain": [
       "[['col1', 'col3', 'col4', 'col2'], ['col7', 'col8'], ['col5'], ['col9']]"
      ]
     },
     "execution_count": 377,
     "metadata": {},
     "output_type": "execute_result"
    }
   ],
   "source": [
    "# connected components subgraphs can be derived\n",
    "[ list(sg.nodes()) for sg in list(networkx.connected_component_subgraphs(cwn)) ]"
   ]
  },
  {
   "cell_type": "code",
   "execution_count": 383,
   "metadata": {},
   "outputs": [],
   "source": [
    "# self-loops are not allowed: \n",
    "## make sure col9 is not linked to itself\n",
    "assert( cwn['col9'].get('col9') is None )\n",
    "\n",
    "# col9 appears twice\n",
    "assert( cwn.nodes(data=True)['col9'].get('count')==2 )"
   ]
  },
  {
   "cell_type": "markdown",
   "metadata": {},
   "source": [
    "### Using names maps"
   ]
  },
  {
   "cell_type": "code",
   "execution_count": 297,
   "metadata": {},
   "outputs": [],
   "source": [
    "from caryocar.cleaning import NamesMap\n",
    "\n",
    "remapping = {\n",
    "    'col7':'col8',\n",
    "    'col8':'COL8',\n",
    "    'col3':'COL_3'\n",
    "}\n",
    "\n",
    "nm = NamesMap( names=[ n for clique in collectors for n in clique  ], \n",
    "               normalizationFunc=lambda x: x, \n",
    "               remappingIndex=remapping )"
   ]
  },
  {
   "cell_type": "code",
   "execution_count": 298,
   "metadata": {},
   "outputs": [],
   "source": [
    "cwn = CoworkingNetwork(cliques=collectors,namesMap=nm)"
   ]
  },
  {
   "cell_type": "markdown",
   "metadata": {},
   "source": [
    "#### Tests"
   ]
  },
  {
   "cell_type": "code",
   "execution_count": 301,
   "metadata": {},
   "outputs": [
    {
     "data": {
      "text/plain": [
       "EdgeDataView([('col1', 'col2', {'count': 7}), ('col1', 'COL_3', {'count': 5}), ('col1', 'col4', {'count': 1}), ('col2', 'COL_3', {'count': 1}), ('col2', 'col4', {'count': 3}), ('COL_3', 'col4', {'count': 1}), ('COL8', 'COL8', {'count': 2})])"
      ]
     },
     "execution_count": 301,
     "metadata": {},
     "output_type": "execute_result"
    }
   ],
   "source": [
    "cwn.edges(data=True)"
   ]
  },
  {
   "cell_type": "code",
   "execution_count": null,
   "metadata": {},
   "outputs": [],
   "source": [
    "# col1 becomes col2 and therefore, COL2"
   ]
  },
  {
   "cell_type": "code",
   "execution_count": null,
   "metadata": {},
   "outputs": [],
   "source": []
  },
  {
   "cell_type": "markdown",
   "metadata": {},
   "source": [
    "---"
   ]
  },
  {
   "cell_type": "code",
   "execution_count": null,
   "metadata": {},
   "outputs": [],
   "source": [
    "class SpeciesCollectorsNetwork(networkx.Graph):\n",
    "    \"\"\"\n",
    "    Class for Species-collectors networks\n",
    "    \n",
    "    Attributes\n",
    "    ----------\n",
    "    _biadj_matrix : (colList, spList, m), where m is a scipy sparse matrix\n",
    "    \n",
    "    Parameters\n",
    "    ----------\n",
    "    \n",
    "    A dataframe with two columns: an atomized collectors names \n",
    "    \"\"\"\n",
    "    def __init__(self, data=None, species=None, collectorsNames=None, weighted=False, namesMap=None, **attr):\n",
    "        \n",
    "        self._biadj_matrix = None\n",
    "        \n",
    "        set_bipartite_attr=False\n",
    "        if species is not None and collectorsNames is not None:\n",
    "            if namesMap:\n",
    "                nmap = namesMap.getMap()\n",
    "                collectorsNames = [ [ nmap[n] for n in nset ] for nset in collectorsNames ]\n",
    "            \n",
    "            # build edges\n",
    "            if len(species)==len(collectorsNames):\n",
    "                species = list(species)\n",
    "                collectorsNames = list(collectorsNames)\n",
    "                \n",
    "                data = [ (sp,col) for i,sp in enumerate(species) for col in collectorsNames[i] ]\n",
    "                set_bipartite_attr=True\n",
    "\n",
    "        super().__init__(data=data,**attr)\n",
    "        \n",
    "        if set_bipartite_attr:\n",
    "            networkx.set_node_attributes( self, 'bipartite', dict( (n,1) for n in species) )\n",
    "            networkx.set_node_attributes( self, 'bipartite', dict( (n,0) for cols in collectorsNames for n in cols) )\n",
    "            \n",
    "        if weighted:\n",
    "            edges = data\n",
    "            edges_weights = Counter(edges)\n",
    "\n",
    "            for (u,v),w in edges_weights.items():\n",
    "                try:\n",
    "                    self[u][v]['weight'] += w\n",
    "                except:\n",
    "                    self[u][v]['weight'] = w    \n",
    "    \n",
    "    def _buildBiadjMatrix( self, col_sp_order=None ):\n",
    "        col_sp_order=(sorted(self.getCollectorsNodes()),sorted(self.getSpeciesNodes())) if col_sp_order is None else col_sp_order\n",
    "        m = networkx.bipartite.biadjacency_matrix(self,row_order=col_sp_order[0],column_order=col_sp_order[1])\n",
    "        self._biadj_matrix = (*col_sp_order,m)\n",
    "                    \n",
    "    def getSpeciesNodes(self,data=False):\n",
    "        return [ (n,d) if data==True else n for n,d in self.nodes(data=True) if d['bipartite']==1 ]\n",
    "        \n",
    "    def getCollectorsNodes(self,data=False):\n",
    "        return [ (n,d) if data==True else n for n,d in self.nodes(data=True) if d['bipartite']==0 ]\n",
    "    \n",
    "    def getSpeciesBag( self, collectorName ):\n",
    "        \"\"\"\n",
    "        Parameters\n",
    "        ----------\n",
    "        \n",
    "        Returns\n",
    "        -------\n",
    "        A tuple (spIds, vector), where the first element is a list containing all species names and\n",
    "        the second is the vector containing their counts.\n",
    "        \"\"\"\n",
    "        if self._biadj_matrix is None:\n",
    "            self._buildBiadjMatrix()\n",
    "            \n",
    "        colList, spList, m = self._biadj_matrix\n",
    "        i = colList.index(collectorName)\n",
    "        vector = m.getrow(i)\n",
    "        return (spList, vector)\n",
    "    \n",
    "    def getInterest( self, speciesName ):\n",
    "        \"\"\"\n",
    "        Returns\n",
    "        -------\n",
    "        The same as the getSpeciesBag method\n",
    "        \"\"\"\n",
    "        if self._biadj_matrix is None:\n",
    "            self._buildBiadjMatrix()\n",
    "        \n",
    "        colList, spList, m = self._biadj_matrix\n",
    "        m = m.transpose()\n",
    "        i = spList.index(speciesName)\n",
    "        vector = m.getrow(i)\n",
    "        return (colList,vector)\n",
    "\n"
   ]
  },
  {
   "cell_type": "code",
   "execution_count": null,
   "metadata": {},
   "outputs": [],
   "source": []
  },
  {
   "cell_type": "code",
   "execution_count": null,
   "metadata": {},
   "outputs": [],
   "source": []
  },
  {
   "cell_type": "code",
   "execution_count": null,
   "metadata": {},
   "outputs": [],
   "source": []
  }
 ],
 "metadata": {
  "kernelspec": {
   "display_name": "Python 3",
   "language": "python",
   "name": "python3"
  },
  "language_info": {
   "codemirror_mode": {
    "name": "ipython",
    "version": 3
   },
   "file_extension": ".py",
   "mimetype": "text/x-python",
   "name": "python",
   "nbconvert_exporter": "python",
   "pygments_lexer": "ipython3",
   "version": "3.6.4"
  }
 },
 "nbformat": 4,
 "nbformat_minor": 2
}
